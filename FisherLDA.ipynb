{
 "cells": [
  {
   "cell_type": "code",
   "execution_count": 1,
   "id": "e7d9984f-0e50-4149-9a30-c17027526aef",
   "metadata": {},
   "outputs": [],
   "source": [
    "import numpy as np\n",
    "import seaborn as sns\n",
    "from sklearn import *\n",
    "import matplotlib.pyplot as plt"
   ]
  },
  {
   "cell_type": "code",
   "execution_count": 14,
   "id": "840982fc-8dc2-459f-aa6c-8b062bd93cda",
   "metadata": {},
   "outputs": [],
   "source": [
    "\n",
    "def FisherLDA(X, y):\n",
    "    target = np.unique(y)\n",
    "\n",
    "    mean_vectors = []\n",
    "\n",
    "    for i in target:\n",
    "        mean_vectors.append(np.mean(X[y == i], axis=0))\n",
    "\n",
    "    # Between class scatter matrix\n",
    "    if len(y) == 2: \n",
    "        # for two classes\n",
    "        mu1_mu2 = (mean_vectors[0] - mean_vectors[1]).reshape(1, X.shape[1])\n",
    "        B = np.dot(mu1_mu2.T, mu1_mu2)\n",
    "    else:\n",
    "        # for multiclass\n",
    "        full_data_mean = np.mean(X, axis=0).reshape(1, X.shape[1])\n",
    "        B = np.zeros((X.shape[1], X.shape[1]))\n",
    "        for i, mean_vec in enumerate(mean_vectors):\n",
    "            n = X[y == i].shape[0]\n",
    "            mean_vec = mean_vec.reshape(1, X.shape[1])\n",
    "            mu1_mu2 = mean_vec - full_data_mean\n",
    "\n",
    "            B += n * np.dot(mu1_mu2.T, mu1_mu2)\n",
    "\n",
    "    s_matrix = []\n",
    "     # within class scatter matrix\n",
    "    for j, mean in enumerate(mean_vectors):\n",
    "        Si = np.zeros((X.shape[1], X.shape[1]))\n",
    "        for row in X[y == j]:\n",
    "            t = (row - mean).reshape(1, X.shape[1])\n",
    "            Si += np.dot(t.T, t)\n",
    "        s_matrix.append(Si)    \n",
    "\n",
    "    W = np.zeros((X.shape[1], X.shape[1]))\n",
    "    for s_i in s_matrix:\n",
    "        W += s_i\n",
    "\n",
    "    W_inv = np.linalg.inv(W)\n",
    "    W_inv_B = W_inv.dot(B)\n",
    "\n",
    "    eig_vals, eig_vecs = np.linalg.eig(W_inv_B)\n",
    "\n",
    "    idx = eig_vals.argsort()[::-1]\n",
    "    eig_vecs = eig_vecs[:, idx]\n",
    "\n",
    "    return eig_vecs\n",
    "        "
   ]
  },
  {
   "cell_type": "code",
   "execution_count": 15,
   "id": "54c7cd7f-c4b1-4d8c-9293-a2d8d3a81b81",
   "metadata": {},
   "outputs": [],
   "source": [
    "def load_data(cols, load_all=False, head=False):\n",
    "    iris = sns.load_dataset(\"iris\")\n",
    " \n",
    "    if not load_all:\n",
    "        if head:\n",
    "            iris = iris.head(100)\n",
    "        else:\n",
    "            iris = iris.tail(100)\n",
    " \n",
    "    le = preprocessing.LabelEncoder()\n",
    "    y = le.fit_transform(iris[\"species\"])\n",
    " \n",
    "    X = iris.drop([\"species\"], axis=1)\n",
    " \n",
    "    if len(cols) > 0:\n",
    "        X = X[cols]\n",
    " \n",
    "    return X.values, y\n"
   ]
  },
  {
   "cell_type": "code",
   "execution_count": 16,
   "id": "25a79ae9-4cad-467f-8a09-4f22be482e6f",
   "metadata": {},
   "outputs": [
    {
     "name": "stdout",
     "output_type": "stream",
     "text": [
      "(150, 2)\n"
     ]
    },
    {
     "data": {
      "image/png": "[encoded data removed]",
      "text/plain": [
       "<Figure size 720x576 with 1 Axes>"
      ]
     },
     "metadata": {
      "needs_background": "light"
     },
     "output_type": "display_data"
    }
   ],
   "source": [
    "cols = [\"petal_length\", \"petal_width\"]\n",
    "X, y = load_data(cols, load_all=True, head=True)\n",
    "print(X.shape)\n",
    "\n",
    "W = FisherLDA(X, y)\n",
    "W = W[:, :1]\n",
    "\n",
    "colors = ['red', 'green', 'blue']\n",
    "fig, ax = plt.subplots(figsize=(10, 8))\n",
    "for point, pred in zip(X, y):\n",
    "    ax.scatter(point[0], point[1], color=colors[pred], alpha=0.3)\n",
    "    proj = (np.dot(point, W) * W) / np.dot(W.T, W)\n",
    " \n",
    "    ax.scatter(proj[0], proj[1], color=colors[pred], alpha=0.3)\n",
    " \n",
    "plt.show()"
   ]
  },
  {
   "cell_type": "code",
   "execution_count": null,
   "id": "6a2c279c-bffa-455e-97cc-478701461b2a",
   "metadata": {},
   "outputs": [],
   "source": []
  }
 ],
 "metadata": {
  "kernelspec": {
   "display_name": "Python 3 (ipykernel)",
   "language": "python",
   "name": "python3"
  },
  "language_info": {
   "codemirror_mode": {
    "name": "ipython",
    "version": 3
   },
   "file_extension": ".py",
   "mimetype": "text/x-python",
   "name": "python",
   "nbconvert_exporter": "python",
   "pygments_lexer": "ipython3",
   "version": "3.8.8"
  }
 },
 "nbformat": 4,
 "nbformat_minor": 5
}
