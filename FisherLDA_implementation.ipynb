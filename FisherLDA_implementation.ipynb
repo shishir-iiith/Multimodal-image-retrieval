{
 "cells": [
  {
   "cell_type": "code",
   "execution_count": 5,
   "id": "1c083532-8393-41ea-b6a4-325bc78f2c3c",
   "metadata": {},
   "outputs": [],
   "source": [
    "import numpy as np"
   ]
  },
  {
   "cell_type": "code",
   "execution_count": 7,
   "id": "48a099d9-b471-4922-bdf3-ca675310546a",
   "metadata": {},
   "outputs": [],
   "source": [
    "def learn_parameter(X, Xr, Xr_):\n",
    "    \n",
    "    # mean vector of whole doc \n",
    "    mean_vectors = [] \n",
    "    for i in range(len(X)):\n",
    "        mean_vectors.append(np.mean(X[i], axis=0))\n",
    "    \n",
    "    # mean of the relevant docs\n",
    "    relevant_mean_vectors = []\n",
    "    for j in range(len(Xr)):\n",
    "        relevant_mean_vectors.append(np.mean(Xr[i], axis=0))\n",
    "    \n",
    "    # mean of the non-relevant docs\n",
    "    nonrelevant_mean_vectors = []\n",
    "    for k in range(len(Xr_)):\n",
    "        nonrelevant_mean_vectors.append(np.mean(Xr_[i], axis=0))\n",
    "    \n",
    "    # calculating the covariance matrix\n",
    "    T = np.zeros((X.shape[1], X.shape[1]))\n",
    "    for i, vec in enumerate(X):\n",
    "        vec = vec.reshape(1, X.shape[1])\n",
    "        Ti = vec - mean_vectors[i]\n",
    "        \n",
    "        T += (np.dot(Ti.T, Ti))/len(X) # covariance matrix\n",
    "        \n",
    "    # between class scatter matrix\n",
    "    rel_mean_diff = (relevant_mean_vectors - mean_vectors).reshape(1, X.shape[1])\n",
    "    rel = len(Xr)*np.dot(rel_mean_diff.T, rel_mean_diff)\n",
    "    \n",
    "    nonrel_mean_diff = (nonrelevant_mean_vectors - mean_vectors).reshape(1, X.shape[1])\n",
    "    nonrel = len(Xr_)*np.dot(nonrel_mean_diff.T, nonrel_mean_diff)\n",
    "    \n",
    "    B = (rel + nonrel)/len(X)\n",
    "        \n",
    "    T_inv = np.linalg.inv(T)\n",
    "    T_inv_B = np.dot(T_inv, B)\n",
    "    \n",
    "    eigen_values, eigen_vectors = np.linalg.eig(T_inv_B)\n",
    "    \n",
    "    # the solution to learn the parameter is the first eigen vector from the fisher criterion\n",
    "    return eigen_vectors[0]"
   ]
  },
  {
   "cell_type": "code",
   "execution_count": null,
   "id": "70365be9-ba23-4ebe-a70e-77a97b1db655",
   "metadata": {},
   "outputs": [],
   "source": [
    "alpha = learn_parameter(X, Xr, Xr_)"
   ]
  }
 ],
 "metadata": {
  "kernelspec": {
   "display_name": "Python 3 (ipykernel)",
   "language": "python",
   "name": "python3"
  },
  "language_info": {
   "codemirror_mode": {
    "name": "ipython",
    "version": 3
   },
   "file_extension": ".py",
   "mimetype": "text/x-python",
   "name": "python",
   "nbconvert_exporter": "python",
   "pygments_lexer": "ipython3",
   "version": "3.8.8"
  }
 },
 "nbformat": 4,
 "nbformat_minor": 5
}
