{
 "cells": [
  {
   "cell_type": "code",
   "execution_count": null,
   "id": "e18cc792-eaf0-4ddd-a347-413e428f1be5",
   "metadata": {},
   "outputs": [],
   "source": [
    "def relevant_separator(T_scores):\n",
    "    X = T_scores(reverse=True)\n",
    "    Xr = X[:5000]\n",
    "    Xr_ = X[5000:]\n",
    "    "
   ]
  }
 ],
 "metadata": {
  "kernelspec": {
   "display_name": "Python 3 (ipykernel)",
   "language": "python",
   "name": "python3"
  },
  "language_info": {
   "codemirror_mode": {
    "name": "ipython",
    "version": 3
   },
   "file_extension": ".py",
   "mimetype": "text/x-python",
   "name": "python",
   "nbconvert_exporter": "python",
   "pygments_lexer": "ipython3",
   "version": "3.8.8"
  }
 },
 "nbformat": 4,
 "nbformat_minor": 5
}
