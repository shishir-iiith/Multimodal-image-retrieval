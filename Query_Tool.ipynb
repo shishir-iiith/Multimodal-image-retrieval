{
 "cells": [
  {
   "cell_type": "code",
   "execution_count": null,
   "id": "7c76f8c7-99a1-4c8a-9740-d464c5b2a3df",
   "metadata": {},
   "outputs": [],
   "source": [
    "def Query(image=None, description=None):\n",
    "    Visual = VisualBagOfWords()\n",
    "    Textual = TextualBagOfWords()\n",
    "    \n",
    "    "
   ]
  },
  {
   "cell_type": "code",
   "execution_count": null,
   "id": "6d822e1f-0795-4ebb-bef2-162c67a95681",
   "metadata": {},
   "outputs": [],
   "source": []
  }
 ],
 "metadata": {
  "kernelspec": {
   "display_name": "Python 3 (ipykernel)",
   "language": "python",
   "name": "python3"
  },
  "language_info": {
   "codemirror_mode": {
    "name": "ipython",
    "version": 3
   },
   "file_extension": ".py",
   "mimetype": "text/x-python",
   "name": "python",
   "nbconvert_exporter": "python",
   "pygments_lexer": "ipython3",
   "version": "3.8.8"
  }
 },
 "nbformat": 4,
 "nbformat_minor": 5
}
